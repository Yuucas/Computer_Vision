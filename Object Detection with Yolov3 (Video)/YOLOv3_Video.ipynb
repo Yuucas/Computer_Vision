{
  "cells": [
    {
      "cell_type": "code",
      "execution_count": null,
      "metadata": {
        "colab": {
          "base_uri": "https://localhost:8080/"
        },
        "id": "krIMrpQvt7Oe",
        "outputId": "2cdcda8b-8b4b-4b5c-bf07-7ab44c068bbc"
      },
      "outputs": [
        {
          "name": "stdout",
          "output_type": "stream",
          "text": [
            "--2023-01-12 11:29:32--  https://moderncomputervision.s3.eu-west-2.amazonaws.com/YOLO.zip\n",
            "Resolving moderncomputervision.s3.eu-west-2.amazonaws.com (moderncomputervision.s3.eu-west-2.amazonaws.com)... 3.5.246.132\n",
            "Connecting to moderncomputervision.s3.eu-west-2.amazonaws.com (moderncomputervision.s3.eu-west-2.amazonaws.com)|3.5.246.132|:443... connected.\n",
            "HTTP request sent, awaiting response... 200 OK\n",
            "Length: 231559154 (221M) [application/zip]\n",
            "Saving to: ‘YOLO.zip’\n",
            "\n",
            "YOLO.zip            100%[===================>] 220.83M  11.3MB/s    in 21s     \n",
            "\n",
            "2023-01-12 11:29:54 (10.5 MB/s) - ‘YOLO.zip’ saved [231559154/231559154]\n",
            "\n"
          ]
        }
      ],
      "source": [
        "# import the necessary packages\n",
        "import numpy as np\n",
        "import time\n",
        "import cv2\n",
        "import os\n",
        "from os import listdir\n",
        "from os.path import isfile, join\n",
        "from matplotlib import pyplot as plt\n",
        "\n",
        "# Define our imshow function \n",
        "def imshow(title = \"Image\", image = None, size = 10):\n",
        "    w, h = image.shape[0], image.shape[1]\n",
        "    aspect_ratio = w/h\n",
        "    plt.figure(figsize=(size * aspect_ratio,size))\n",
        "    plt.imshow(cv2.cvtColor(image, cv2.COLOR_BGR2RGB))\n",
        "    plt.title(title)\n",
        "    plt.show()\n",
        "\n",
        "# Download and unzip our images and YOLO files\n",
        "!wget https://moderncomputervision.s3.eu-west-2.amazonaws.com/YOLO.zip\n",
        "!unzip -qq YOLO.zip"
      ]
    },
    {
      "cell_type": "code",
      "execution_count": null,
      "metadata": {
        "colab": {
          "base_uri": "https://localhost:8080/"
        },
        "id": "4QnR5e8PvQnU",
        "outputId": "26f0c757-d772-4d3e-b2b8-b37047f7f788"
      },
      "outputs": [
        {
          "name": "stdout",
          "output_type": "stream",
          "text": [
            "Loading YOLO weights...\n",
            "Our YOLO Layers\n",
            "254 ('conv_0', 'bn_0', 'leaky_1', 'conv_1', 'bn_1', 'leaky_2', 'conv_2', 'bn_2', 'leaky_3', 'conv_3', 'bn_3', 'leaky_4', 'shortcut_4', 'conv_5', 'bn_5', 'leaky_6', 'conv_6', 'bn_6', 'leaky_7', 'conv_7', 'bn_7', 'leaky_8', 'shortcut_8', 'conv_9', 'bn_9', 'leaky_10', 'conv_10', 'bn_10', 'leaky_11', 'shortcut_11', 'conv_12', 'bn_12', 'leaky_13', 'conv_13', 'bn_13', 'leaky_14', 'conv_14', 'bn_14', 'leaky_15', 'shortcut_15', 'conv_16', 'bn_16', 'leaky_17', 'conv_17', 'bn_17', 'leaky_18', 'shortcut_18', 'conv_19', 'bn_19', 'leaky_20', 'conv_20', 'bn_20', 'leaky_21', 'shortcut_21', 'conv_22', 'bn_22', 'leaky_23', 'conv_23', 'bn_23', 'leaky_24', 'shortcut_24', 'conv_25', 'bn_25', 'leaky_26', 'conv_26', 'bn_26', 'leaky_27', 'shortcut_27', 'conv_28', 'bn_28', 'leaky_29', 'conv_29', 'bn_29', 'leaky_30', 'shortcut_30', 'conv_31', 'bn_31', 'leaky_32', 'conv_32', 'bn_32', 'leaky_33', 'shortcut_33', 'conv_34', 'bn_34', 'leaky_35', 'conv_35', 'bn_35', 'leaky_36', 'shortcut_36', 'conv_37', 'bn_37', 'leaky_38', 'conv_38', 'bn_38', 'leaky_39', 'conv_39', 'bn_39', 'leaky_40', 'shortcut_40', 'conv_41', 'bn_41', 'leaky_42', 'conv_42', 'bn_42', 'leaky_43', 'shortcut_43', 'conv_44', 'bn_44', 'leaky_45', 'conv_45', 'bn_45', 'leaky_46', 'shortcut_46', 'conv_47', 'bn_47', 'leaky_48', 'conv_48', 'bn_48', 'leaky_49', 'shortcut_49', 'conv_50', 'bn_50', 'leaky_51', 'conv_51', 'bn_51', 'leaky_52', 'shortcut_52', 'conv_53', 'bn_53', 'leaky_54', 'conv_54', 'bn_54', 'leaky_55', 'shortcut_55', 'conv_56', 'bn_56', 'leaky_57', 'conv_57', 'bn_57', 'leaky_58', 'shortcut_58', 'conv_59', 'bn_59', 'leaky_60', 'conv_60', 'bn_60', 'leaky_61', 'shortcut_61', 'conv_62', 'bn_62', 'leaky_63', 'conv_63', 'bn_63', 'leaky_64', 'conv_64', 'bn_64', 'leaky_65', 'shortcut_65', 'conv_66', 'bn_66', 'leaky_67', 'conv_67', 'bn_67', 'leaky_68', 'shortcut_68', 'conv_69', 'bn_69', 'leaky_70', 'conv_70', 'bn_70', 'leaky_71', 'shortcut_71', 'conv_72', 'bn_72', 'leaky_73', 'conv_73', 'bn_73', 'leaky_74', 'shortcut_74', 'conv_75', 'bn_75', 'leaky_76', 'conv_76', 'bn_76', 'leaky_77', 'conv_77', 'bn_77', 'leaky_78', 'conv_78', 'bn_78', 'leaky_79', 'conv_79', 'bn_79', 'leaky_80', 'conv_80', 'bn_80', 'leaky_81', 'conv_81', 'permute_82', 'yolo_82', 'identity_83', 'conv_84', 'bn_84', 'leaky_85', 'upsample_85', 'concat_86', 'conv_87', 'bn_87', 'leaky_88', 'conv_88', 'bn_88', 'leaky_89', 'conv_89', 'bn_89', 'leaky_90', 'conv_90', 'bn_90', 'leaky_91', 'conv_91', 'bn_91', 'leaky_92', 'conv_92', 'bn_92', 'leaky_93', 'conv_93', 'permute_94', 'yolo_94', 'identity_95', 'conv_96', 'bn_96', 'leaky_97', 'upsample_97', 'concat_98', 'conv_99', 'bn_99', 'leaky_100', 'conv_100', 'bn_100', 'leaky_101', 'conv_101', 'bn_101', 'leaky_102', 'conv_102', 'bn_102', 'leaky_103', 'conv_103', 'bn_103', 'leaky_104', 'conv_104', 'bn_104', 'leaky_105', 'conv_105', 'permute_106', 'yolo_106')\n"
          ]
        }
      ],
      "source": [
        "# Load the COCO class labels our YOLO model was trained on\n",
        "labelsPath = \"YOLO/yolo/coco.names\"\n",
        "LABELS = open(labelsPath).read().strip().split(\"\\n\")\n",
        " \n",
        "# We now need to initialize a list of colors to represent each possible class label\n",
        "COLORS = np.random.randint(0, 255, size=(len(LABELS), 3), dtype=\"uint8\")\n",
        "\n",
        "print(\"Loading YOLO weights...\") \n",
        "\n",
        "weights_path = \"YOLO/yolo/yolov3.weights\" \n",
        "cfg_path = \"YOLO/yolo/yolov3.cfg\"\n",
        "\n",
        "# Create our blob object\n",
        "net = cv2.dnn.readNetFromDarknet(cfg_path, weights_path)\n",
        "\n",
        "# Set our backend\n",
        "net.setPreferableBackend(cv2.dnn.DNN_BACKEND_OPENCV)\n",
        "# net.setPreferableTarget(cv2.dnn.DNN_TARGET_CPU)\n",
        "\n",
        "print(\"Our YOLO Layers\")\n",
        "ln = net.getLayerNames()\n",
        "\n",
        "# There are 254 Layers\n",
        "print(len(ln), ln)"
      ]
    },
    {
      "cell_type": "code",
      "execution_count": null,
      "metadata": {
        "colab": {
          "base_uri": "https://localhost:8080/"
        },
        "id": "ZIOb2Yu9vag8",
        "outputId": "690eb676-f23e-4ac2-df7c-ab04477f005f"
      },
      "outputs": [
        {
          "name": "stdout",
          "output_type": "stream",
          "text": [
            "Mounted at /content/drive\n"
          ]
        }
      ],
      "source": [
        "from google.colab import drive\n",
        "drive.mount('/content/drive')"
      ]
    },
    {
      "cell_type": "code",
      "execution_count": null,
      "metadata": {
        "colab": {
          "base_uri": "https://localhost:8080/",
          "height": 35
        },
        "id": "8PndGppIwCae",
        "outputId": "89b41529-c495-4393-c823-6abd5161ffb2"
      },
      "outputs": [
        {
          "data": {
            "application/vnd.google.colaboratory.intrinsic+json": {
              "type": "string"
            },
            "text/plain": [
              "'/content/YOLO/video/pexels-artem-podrez-5725960.mp4'"
            ]
          },
          "execution_count": 7,
          "metadata": {},
          "output_type": "execute_result"
        }
      ],
      "source": [
        "import shutil\n",
        "# Move the video file to yolo folder\n",
        "shutil.move('/content/drive/MyDrive/Modern Computer Vision/pexels-artem-podrez-5725960.mp4', '/content/YOLO/video/pexels-artem-podrez-5725960.mp4')"
      ]
    },
    {
      "cell_type": "code",
      "execution_count": null,
      "metadata": {
        "colab": {
          "background_save": true
        },
        "id": "PHmqmEffyRJp"
      },
      "outputs": [],
      "source": [
        "print(\"Starting Detections...\")\n",
        "capture = cv2.VideoCapture('/content/YOLO/video/pexels-artem-podrez-5725960.mp4')\n",
        "\n",
        "while capture.isOpened():\n",
        "    isTrue, frame = capture.read()\n",
        "    (H, W) = frame.shape[:2]\n",
        "    \n",
        "    # we want only the *output* layer names that we need from YOLO\n",
        "    ln = net.getLayerNames()\n",
        "    ln = [ln[i - 1] for i in net.getUnconnectedOutLayers()]\n",
        "\n",
        "    # Now we contruct our blob from our input images\n",
        "    blob = cv2.dnn.blobFromImage(frame, 1 / 255.0, (416, 416), swapRB=True, crop=False)\n",
        "    # We set our input to our image blob\n",
        "    net.setInput(blob)\n",
        "    # Then we run a forward pass through the network\n",
        "    layerOutputs = net.forward(ln)\n",
        "\n",
        "    # we initialize our lists for our detected bounding boxes, confidences, and classes\n",
        "    boxes = []\n",
        "    confidences = []\n",
        "    IDs = []\n",
        "\n",
        "    # Loop over each of the layer outputs\n",
        "    for output in layerOutputs:\n",
        "\n",
        "        # Loop over each detection\n",
        "        for detection in output:\n",
        "            # Obtain class ID and probality of detection\n",
        "            scores = detection[5:]\n",
        "            classID = np.argmax(scores)\n",
        "            confidence = scores[classID]\n",
        "            # We keep only the most probably predictions\n",
        "            if confidence > 0.75:\n",
        "                # We scale the bounding box coordinates relative to the image\n",
        "                # Note: YOLO actually returns the center (x, y) of the bounding\n",
        "                # box followed by the width and height of the box\n",
        "                box = detection[0:4] * np.array([W, H, W, H])\n",
        "                (centerX, centerY, width, height) = box.astype(\"int\")\n",
        "\n",
        "                # Get the the top and left corner of the bounding box\n",
        "                # Remember we alredy have the width and height\n",
        "                x = int(centerX - (width / 2))\n",
        "                y = int(centerY - (height / 2))\n",
        "\n",
        "                # Append our list of bounding box coordinates, confidences and class IDs\n",
        "                boxes.append([x, y, int(width), int(height)])\n",
        "                confidences.append(float(confidence))\n",
        "                IDs.append(classID)\n",
        "\n",
        "    # Now we apply non-maxima suppression to reduce overlapping bounding boxes\n",
        "    idxs = cv2.dnn.NMSBoxes(boxes, confidences, 0.5, 0.3)\n",
        "\n",
        "    # We proceed once a detection has been found\n",
        "    if len(idxs) > 0:\n",
        "        # iterate over the indexes we are keeping\n",
        "        for i in idxs.flatten():\n",
        "            # Get the bounding box coordinates\n",
        "            (x, y) = (boxes[i][0], boxes[i][1])\n",
        "            (w, h) = (boxes[i][2], boxes[i][3])\n",
        "\n",
        "            # Draw our bounding boxes and put our class label on the image\n",
        "            color = [int(c) for c in COLORS[IDs[i]]]\n",
        "            cv2.rectangle(frame, (x, y), (x + w, y + h), color, 3)\n",
        "            text = \"{}: {:.4f}\".format(LABELS[IDs[i]], confidences[i])\n",
        "            cv2.putText(frame, text, (x, y - 5), cv2.FONT_HERSHEY_SIMPLEX, 0.5, color, 2)\n",
        "\n",
        "    # show the output image\n",
        "    imshow(\"YOLO Detections\", frame, size = 24)\n",
        "\n",
        "    if cv2.waitKey(10) & 0xFF == ord('q'):\n",
        "      break\n",
        "\n",
        "capture.release()\n",
        "cv2.destroyAllWindows()"
      ]
    }
  ],
  "metadata": {
    "colab": {
      "provenance": []
    },
    "kernelspec": {
      "display_name": "Python 3",
      "name": "python3"
    },
    "language_info": {
      "name": "python"
    }
  },
  "nbformat": 4,
  "nbformat_minor": 0
}